{
 "cells": [
  {
   "cell_type": "markdown",
   "id": "dbd11bc3-d2f8-4257-8887-3268f0ecf2f4",
   "metadata": {},
   "source": [
    "# EDS 220 Fall 2021\n",
    "\n",
    "## Visualizing global precipitation using Google Earth Engine\n",
    "\n",
    "Let's get started with some data visualization and processing! Our tool for this exercise will be the Google Earth Engine (GEE):\n",
    "https://earthengine.google.com/\n",
    "\n",
    "GEE is a really powerful platform that allows easy access to many datasets without the need for a lot of pre-processing, so it's a good way to get our hands dirty with some basic mapping skills. Here we'll use the Python API, which will let us code in 'familiar' Python commands while still interfacing with the GEE platform. For this, we'll need to import the 'geemap' package in Python. \n",
    "\n",
    "The code chunk below checks to see whether geemap is already installed; if it's not, then it does the installation for us!"
   ]
  },
  {
   "cell_type": "code",
   "execution_count": 124,
   "id": "fcfb5ce0-d0ee-4a1b-bd3c-8e52a005711c",
   "metadata": {},
   "outputs": [],
   "source": [
    "import subprocess\n",
    "\n",
    "try:\n",
    "    import geemap\n",
    "except ImportError:\n",
    "    print('Installing geemap ...')\n",
    "    subprocess.check_call([\"python\", '-m', 'pip', 'install', 'geemap'])\n"
   ]
  },
  {
   "cell_type": "markdown",
   "id": "adcf184e-b9cf-4cf9-aa5b-0a2a0ba6633c",
   "metadata": {},
   "source": [
    "Now we import the Google Earth Engine. Note: this will fail unless you activate the \"ee\" environment using conda before launching JupyterLab, otherwise Python won't know what \"ee\" means below.\n",
    "\n",
    "We'll also import the pandas package to allow for manpulation of data subsets later on! It's good practice to do all of the importing of needed packages in one place (preferably at the start of your code) so that you can easily see what tools are available."
   ]
  },
  {
   "cell_type": "code",
   "execution_count": 125,
   "id": "36f523a9-c8a8-4130-bb5e-a186c73d7887",
   "metadata": {},
   "outputs": [],
   "source": [
    "import ee\n",
    "import geemap\n",
    "import pandas as pd"
   ]
  },
  {
   "cell_type": "markdown",
   "id": "0b8e4852-1bd2-4c39-acd4-a5a8050e6389",
   "metadata": {},
   "source": [
    "## Create an interactive map\n",
    "\n",
    "Now let's load the package that will allow us to map a given dataset. The default basemap is, unsurprisingly, Google Maps. Executing the code chunk below will display an empty Google Map that you can manipulate just like a regular Google Maps interface:"
   ]
  },
  {
   "cell_type": "code",
   "execution_count": 126,
   "id": "fe2f5bfd-5a62-4ca9-b64e-0e5b4c16be81",
   "metadata": {},
   "outputs": [
    {
     "data": {
      "application/vnd.jupyter.widget-view+json": {
       "model_id": "e99b91526bf54cc38b5985a9f4a41a6d",
       "version_major": 2,
       "version_minor": 0
      },
      "text/plain": [
       "Map(center=[40, -100], controls=(WidgetControl(options=['position', 'transparent_bg'], widget=HBox(children=(T…"
      ]
     },
     "metadata": {},
     "output_type": "display_data"
    }
   ],
   "source": [
    "Map = geemap.Map(center=[40,-100], zoom=2)\n",
    "Map"
   ]
  },
  {
   "cell_type": "markdown",
   "id": "a8053919-9ad6-482b-a984-a48dc44e6a61",
   "metadata": {},
   "source": [
    "Now we need to tell GEE which dataset to layer on top of the base map. \n",
    "\n",
    "The next chunk of code will load some data; when executed, it will display within the map window above."
   ]
  },
  {
   "cell_type": "markdown",
   "id": "4be51235-5b58-45d1-9a4e-2ba3b33b758f",
   "metadata": {},
   "source": [
    "## Load data and plot over the basemap"
   ]
  },
  {
   "cell_type": "markdown",
   "id": "1ffa288e-e325-446d-a147-97be7e5c5292",
   "metadata": {},
   "source": [
    "The dataset we'll be using here is the ERA5 \"reanalysis\": essentially, a reanalysis is a numerical model (in this case, a weather model) that's been forced to match observations of the real world (in this case, atmospheric weather observations) as closely as possible. ERA5 is produced by the European Centre for Medium-Range Weather Forecasts, or ECMWF; so you'll see below that the parent directory for this dataset is called ECMWF. A description of the dataset is here:\n",
    "https://developers.google.com/earth-engine/datasets/catalog/ECMWF_ERA5_DAILY\n",
    "\n",
    "The below chunk of code loads in the \"mean_2m_air_temperature\" and \"total precipitation\" fields, which are basically what they sound like: the temperature of air at an altitude of 2 meters, and the daily total precipitation, everywhere on Earth. Here we'll be working just with precipitation, but I've included temperature as well so you can see that other variables are just as easy to grab!\n",
    "\n",
    "Both temperature and precipitation are stored as GEE \"Image Collections\"; there will be one image for every time value. This becomes important during later filtering and processing steps."
   ]
  },
  {
   "cell_type": "code",
   "execution_count": 127,
   "id": "fe3c487e-4238-4a9e-a580-e02774c7e809",
   "metadata": {},
   "outputs": [],
   "source": [
    "# Add Earth Engine dataset\n",
    "\n",
    "gdat = ee.ImageCollection('ECMWF/ERA5/DAILY')\n",
    "ts = gdat.select('mean_2m_air_temperature')\n",
    "\n",
    "pr=gdat.select('total_precipitation')"
   ]
  },
  {
   "cell_type": "markdown",
   "id": "4dee26d3-a4d1-42c5-b90a-a06a9d5cfe59",
   "metadata": {},
   "source": [
    "This data isn't very mappable right now, since it contains information every day from 1979 to 2020. We need to filter it down to a single field for a time of our choice. Let's select an arbitrary time range: here, December of 2019."
   ]
  },
  {
   "cell_type": "code",
   "execution_count": 128,
   "id": "ecb38bd3-9745-4de6-a7c0-81ff94a56bf1",
   "metadata": {},
   "outputs": [],
   "source": [
    "tsdflt=ts.filter(ee.Filter.date('2019-12-01', '2019-12-02')).mean();\n",
    "prdflt=pr.filter(ee.Filter.date('2019-12-01', '2019-12-02')).mean();\n"
   ]
  },
  {
   "cell_type": "markdown",
   "id": "d9343535-5832-4930-8122-a0ce38b0f3db",
   "metadata": {},
   "source": [
    "Now let's tell the map where to center itself! This is done with the \"setCenter\" command applied to the Map object. The first two arguments below are the longitude and latitude, respectively; the third is the zoom level for the map (smaller numbers = bigger maps)."
   ]
  },
  {
   "cell_type": "code",
   "execution_count": 129,
   "id": "ae32bb3f-1fb0-4a0b-a5bd-2c0b363432c8",
   "metadata": {},
   "outputs": [],
   "source": [
    "# Map.setCenter(-90.162, 29.8597, 4)   # New Orleans, USA\n",
    "# Map.setCenter(-114.9774, 31.9254, 4) # Mouth of the Colorado River, Mexico\n",
    "# Map.setCenter(-111.1871, 37.0963, 3) # Lake Powell, USA\n",
    "# Map.setCenter(149.412, -35.0789, 4)  # Lake George, Australia\n",
    "Map.setCenter(105.26, 11.2134, 4)     # Mekong River Basin, SouthEast Asia\n",
    "# Map.setCenter(90.6743, 22.7382, 4)   # Meghna River, Bangladesh\n",
    "# Map.setCenter(81.2714, 16.5079, 4)   # Godavari River Basin Irrigation Project, India\n",
    "# Map.setCenter(14.7035, 52.0985, 4)   # River Oder, Germany & Poland\n",
    "# Map.setCenter(-59.1696, -33.8111, 4)  # Buenos Aires, Argentina\\\n",
    "#Map.setCenter(-74.4557, -8.4289, 4)  # Ucayali River, Peru\n"
   ]
  },
  {
   "cell_type": "markdown",
   "id": "d227ff7d-f3c8-4204-b8f2-61a5cdc60832",
   "metadata": {},
   "source": [
    "Now we can set a color palette to use when plotting the data layer. The following are the palettes specified for temperature and precipitation in the GEE description page for ERA5. Note that you also have to specify a max/min value for each of the variables!"
   ]
  },
  {
   "cell_type": "code",
   "execution_count": 130,
   "id": "8b6a15e7-061b-4990-833e-a957528cbabb",
   "metadata": {},
   "outputs": [],
   "source": [
    "VIS_TS = {\n",
    "    'min':273,\n",
    "    'max':310,\n",
    "    'palette': ['#000080', '#0000D9', '#4000FF', '#8000FF', '#0080FF', '#00FFFF', '#00FF80',\n",
    "    '#80FF00', '#DAFF00', '#FFFF00', '#FFF500', '#FFDA00', '#FFB000', '#FFA400',\n",
    "    '#FF4F00', '#FF2500', '#FF0A00', '#FF00FF']\n",
    "}\n",
    "\n",
    "VIS_PREC = {\n",
    "    'min':0,\n",
    "    'max':0.1,\n",
    "    'palette': ['#FFFFFF', '#00FFFF', '#0080FF', '#DA00FF', '#FFA400', '#FF0000']\n",
    "}"
   ]
  },
  {
   "cell_type": "code",
   "execution_count": 131,
   "id": "48bfd420-027d-46f8-b011-15c7402e88b9",
   "metadata": {},
   "outputs": [],
   "source": [
    "Map.addLayer(prdflt, VIS_PREC,'total precipitation',opacity=0.3)"
   ]
  },
  {
   "cell_type": "markdown",
   "id": "0c5dba8b-b58b-41d0-9385-64b52df7922e",
   "metadata": {},
   "source": [
    "## Play with the map!\n",
    "\n",
    "Now that everything has been set up, try playing around with things a bit. \n",
    "\n",
    "#### 1) Look at time variations\n",
    "\n",
    "Change the date range in the ee.Filter.date command above, then replot the map layer. How different do things look? \n",
    "\n",
    "#### 2) Change map locations\n",
    "\n",
    "Try zooming in and out on different parts of the map. What types of features do you notice? Are there particular patterns that seem to persist in particular places? (for example: check out the equatorial Pacific!)"
   ]
  },
  {
   "cell_type": "markdown",
   "id": "43cc9371-ed0c-42cf-86e2-57303e4e8dd9",
   "metadata": {},
   "source": [
    "## Look for historical storm events\n",
    "\n",
    "Test out your map manipulation skills! Try filtering the data in time and space to locate a couple of particularly strong precipitation events:\n",
    "\n",
    "- Montecito, California: January 9, 2018\n",
    "\n",
    "- Rio Grande do Sul, Brazil: March 11-13, 2017\n",
    "\n",
    "- Mumbai, India: July 26, 2005\n",
    "\n",
    "(hint: Google is your friend for finding lats/lons for these places!)\n",
    "\n",
    "Can you see any coherent patterns of precipitation in those locations on those days?\n"
   ]
  },
  {
   "cell_type": "markdown",
   "id": "20c2aa59-93b7-4d24-bfa6-a61380963add",
   "metadata": {},
   "source": [
    "## Save images of your maps\n",
    "\n",
    "Finally, save your work! There are a few different options for saving images from GEE; here we'll use the getThumbURL() method. This generates a JPG or PNG image, for which the URL is provided, then you can download the result. "
   ]
  },
  {
   "cell_type": "code",
   "execution_count": 133,
   "id": "5ce53076-029a-4372-a644-aa31913149c9",
   "metadata": {},
   "outputs": [
    {
     "name": "stdout",
     "output_type": "stream",
     "text": [
      "https://earthengine.googleapis.com/v1alpha/projects/earthengine-legacy/thumbnails/8f8a3756307e27243eb597246cf8a938-e460ce6e021424e0dbf8b7982d8b997c:getPixels\n"
     ]
    }
   ],
   "source": [
    "url = prdflt.getThumbUrl({\n",
    "    'min': 0, 'max': 0.1, 'dimensions': 512, \n",
    "    'palette': ['#FFFFFF', '#00FFFF', '#0080FF', '#DA00FF', '#FFA400', '#FF0000']})\n",
    "print(url)\n"
   ]
  },
  {
   "cell_type": "markdown",
   "id": "62253c3b-5014-43de-977c-4637dcc3835e",
   "metadata": {},
   "source": [
    "Once you've executed the above code, you can save it to whatever filename you like!"
   ]
  },
  {
   "cell_type": "code",
   "execution_count": null,
   "id": "0a7c7842-4af1-4446-a769-34a2385192d3",
   "metadata": {},
   "outputs": [],
   "source": []
  }
 ],
 "metadata": {
  "kernelspec": {
   "display_name": "Python 3",
   "language": "python",
   "name": "python3"
  },
  "language_info": {
   "codemirror_mode": {
    "name": "ipython",
    "version": 3
   },
   "file_extension": ".py",
   "mimetype": "text/x-python",
   "name": "python",
   "nbconvert_exporter": "python",
   "pygments_lexer": "ipython3",
   "version": "3.8.8"
  }
 },
 "nbformat": 4,
 "nbformat_minor": 5
}
