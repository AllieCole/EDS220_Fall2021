{
 "cells": [
  {
   "cell_type": "markdown",
   "id": "dbd11bc3-d2f8-4257-8887-3268f0ecf2f4",
   "metadata": {},
   "source": [
    "# EDS 220 Fall 2021\n",
    "\n",
    "## Visualizing global surface temperature and precipitation using Google Earth Engine"
   ]
  },
  {
   "cell_type": "code",
   "execution_count": 55,
   "id": "fcfb5ce0-d0ee-4a1b-bd3c-8e52a005711c",
   "metadata": {},
   "outputs": [],
   "source": [
    "import subprocess\n",
    "\n",
    "try:\n",
    "    import geemap\n",
    "except ImportError:\n",
    "    print('Installing geemap ...')\n",
    "    subprocess.check_call([\"python\", '-m', 'pip', 'install', 'geemap'])\n"
   ]
  },
  {
   "cell_type": "markdown",
   "id": "adcf184e-b9cf-4cf9-aa5b-0a2a0ba6633c",
   "metadata": {},
   "source": [
    "Import the Google Earth Engine. Note: this will fail unless you activate the \"ee\" environment using conda before launching JupyterLab."
   ]
  },
  {
   "cell_type": "code",
   "execution_count": 56,
   "id": "36f523a9-c8a8-4130-bb5e-a186c73d7887",
   "metadata": {},
   "outputs": [],
   "source": [
    "import ee\n",
    "import geemap\n",
    "import pandas as pd"
   ]
  },
  {
   "cell_type": "markdown",
   "id": "0b8e4852-1bd2-4c39-acd4-a5a8050e6389",
   "metadata": {},
   "source": [
    "## Create an interactive map\n",
    "\n",
    "Now let's load the package that will allow us to map a given dataset. The default basemap is, unsurprisingly, Google Maps."
   ]
  },
  {
   "cell_type": "code",
   "execution_count": 31,
   "id": "fe2f5bfd-5a62-4ca9-b64e-0e5b4c16be81",
   "metadata": {},
   "outputs": [
    {
     "data": {
      "application/vnd.jupyter.widget-view+json": {
       "model_id": "6890d2e1f92143a3afcd64d020bb9faa",
       "version_major": 2,
       "version_minor": 0
      },
      "text/plain": [
       "Map(center=[40, -100], controls=(WidgetControl(options=['position', 'transparent_bg'], widget=HBox(children=(T…"
      ]
     },
     "metadata": {},
     "output_type": "display_data"
    }
   ],
   "source": [
    "Map = geemap.Map(center=[40,-100], zoom=2)\n",
    "Map"
   ]
  },
  {
   "cell_type": "markdown",
   "id": "a8053919-9ad6-482b-a984-a48dc44e6a61",
   "metadata": {},
   "source": [
    "If you execute the above, you can see that the map is created - but there is no data plotted. Now we need to tell GEE which dataset to layer on top of the base map. \n",
    "\n",
    "The next chunk of code will load some data; when executed, it will display within the map window above."
   ]
  },
  {
   "cell_type": "markdown",
   "id": "4be51235-5b58-45d1-9a4e-2ba3b33b758f",
   "metadata": {},
   "source": [
    "## Load data and plot over the basemap"
   ]
  },
  {
   "cell_type": "markdown",
   "id": "1ffa288e-e325-446d-a147-97be7e5c5292",
   "metadata": {},
   "source": [
    "The dataset I've chosen here is the ERA5 \"reanalysis\": essentially, a reanalysis is a numerical model (in this case, a weather model) that's been forced to match observations of the real world (in this case, atmospheric weather observations) as closely as possible. ERA5 is produced by the European Centre for Medium-Range Weather Forecasts, or ECMWF; so you'll see below that the parent directory for this dataset is called ECMWF. A description of the dataset is here:\n",
    "https://developers.google.com/earth-engine/datasets/catalog/ECMWF_ERA5_DAILY\n",
    "\n",
    "The below chunk of code loads in the \"mean_2m_air_temperature\" field, which is basically what it sounds like: the temperature of air at an altitude of 2 meters, everywhere on Earth. Note that the units of temperature are in Kelvin!"
   ]
  },
  {
   "cell_type": "code",
   "execution_count": 49,
   "id": "fe3c487e-4238-4a9e-a580-e02774c7e809",
   "metadata": {},
   "outputs": [],
   "source": [
    "# Add Earth Engine dataset\n",
    "\n",
    "gdat = ee.ImageCollection('ECMWF/ERA5/DAILY')\n",
    "ts = gdat.select('mean_2m_air_temperature')\n",
    "\n",
    "pr=gdat.select('total_precipitation')"
   ]
  },
  {
   "cell_type": "markdown",
   "id": "4dee26d3-a4d1-42c5-b90a-a06a9d5cfe59",
   "metadata": {},
   "source": [
    "This data isn't very mappable right now, since it contains information every day from 1979 to 2020. We need to filter it down to a single field for a time of our choice. Let's select an arbitrary time range: here, July of 2019."
   ]
  },
  {
   "cell_type": "code",
   "execution_count": 54,
   "id": "ecb38bd3-9745-4de6-a7c0-81ff94a56bf1",
   "metadata": {},
   "outputs": [],
   "source": [
    "tsdflt=ts.filter(ee.Filter.date('2019-07-01', '2019-07-31'));\n",
    "prdflt=pr.filter(ee.Filter.date('2019-07-01', '2019-07-31'));\n",
    "\n",
    "# Uncomment one of the following statements to center the map on\n",
    "# a particular location.\n",
    "# Map.setCenter(-90.162, 29.8597, 4)   # New Orleans, USA\n",
    "# Map.setCenter(-114.9774, 31.9254, 4) # Mouth of the Colorado River, Mexico\n",
    "# Map.setCenter(-111.1871, 37.0963, 3) # Lake Powell, USA\n",
    "# Map.setCenter(149.412, -35.0789, 4)  # Lake George, Australia\n",
    "Map.setCenter(105.26, 11.2134, 4)     # Mekong River Basin, SouthEast Asia\n",
    "# Map.setCenter(90.6743, 22.7382, 4)   # Meghna River, Bangladesh\n",
    "# Map.setCenter(81.2714, 16.5079, 4)   # Godavari River Basin Irrigation Project, India\n",
    "# Map.setCenter(14.7035, 52.0985, 4)   # River Oder, Germany & Poland\n",
    "# Map.setCenter(-59.1696, -33.8111, 4)  # Buenos Aires, Argentina\\\n",
    "#Map.setCenter(-74.4557, -8.4289, 4)  # Ucayali River, Peru\n"
   ]
  },
  {
   "cell_type": "markdown",
   "id": "d227ff7d-f3c8-4204-b8f2-61a5cdc60832",
   "metadata": {},
   "source": [
    "Now we can set a color palette to use when plotting the data layer."
   ]
  },
  {
   "cell_type": "code",
   "execution_count": 51,
   "id": "8b6a15e7-061b-4990-833e-a957528cbabb",
   "metadata": {},
   "outputs": [],
   "source": [
    "VIS_TS = {\n",
    "    'min':273,\n",
    "    'max':310,\n",
    "    'palette': ['#000080', '#0000D9', '#4000FF', '#8000FF', '#0080FF', '#00FFFF', '#00FF80',\n",
    "    '#80FF00', '#DAFF00', '#FFFF00', '#FFF500', '#FFDA00', '#FFB000', '#FFA400',\n",
    "    '#FF4F00', '#FF2500', '#FF0A00', '#FF00FF']\n",
    "}\n",
    "\n",
    "VIS_PREC = {\n",
    "    'min':0,\n",
    "    'max':0.1,\n",
    "    'palette': ['#FFFFFF', '#00FFFF', '#0080FF', '#DA00FF', '#FFA400', '#FF0000']\n",
    "}"
   ]
  },
  {
   "cell_type": "code",
   "execution_count": 52,
   "id": "17fe9b2e-7445-4160-83dd-f352d0db180d",
   "metadata": {},
   "outputs": [],
   "source": [
    "Map.addLayer(prdflt, VIS_PREC,'surface air temperature',opacity=0.75)"
   ]
  },
  {
   "cell_type": "code",
   "execution_count": null,
   "id": "4f366d87-9a08-4b40-a2d1-5df852c3809b",
   "metadata": {},
   "outputs": [],
   "source": []
  }
 ],
 "metadata": {
  "kernelspec": {
   "display_name": "Python 3",
   "language": "python",
   "name": "python3"
  },
  "language_info": {
   "codemirror_mode": {
    "name": "ipython",
    "version": 3
   },
   "file_extension": ".py",
   "mimetype": "text/x-python",
   "name": "python",
   "nbconvert_exporter": "python",
   "pygments_lexer": "ipython3",
   "version": "3.8.8"
  }
 },
 "nbformat": 4,
 "nbformat_minor": 5
}
