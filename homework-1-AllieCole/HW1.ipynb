{
 "cells": [
  {
   "cell_type": "markdown",
   "id": "44367d9c-f6dd-4e35-b818-7ad754ea8361",
   "metadata": {},
   "source": [
    "# Homework 1, EDS 220\n",
    "## Fun With Data Manipulation in Google Earth Engine\n",
    "\n",
    "This template provides the instructions for EDS 220 HW1, and some initial environment loading/package configuration commands which you are welcome to modify as needed. \n",
    "\n",
    "**You will need to supply your own code for this assignment! Feel free to cut and paste relevant lines from the course materials or elsewhere online, that's what coding is all about.**\n",
    "\n",
    "We'll assume that you need to load the Google Earth Engine package, and will also include several other common Python packages:\n",
    "- pandas\n",
    "- matplotlib (the plotting functionality \"matplotlib.pyplot\" to be precise)\n",
    "- numpy"
   ]
  },
  {
   "cell_type": "code",
   "execution_count": 3,
   "id": "bd4f280e-c251-4a27-97fc-86df2717ddab",
   "metadata": {},
   "outputs": [],
   "source": [
    "# Import packages\n",
    "import ee\n",
    "import geemap\n",
    "import pandas as pd\n",
    "import matplotlib.pyplot as plt\n",
    "import numpy as np"
   ]
  },
  {
   "cell_type": "markdown",
   "id": "c72110b2-135c-4ef3-ad4a-d891ee5ee1a3",
   "metadata": {},
   "source": [
    "### 1. Choose A Study Region\n",
    "\n",
    "Think about places on Earth that you're interested in. This could be anywhere: Santa Barbara, your hometown, a place you always wanted to visit, you name it. \n",
    "\n",
    "For that place, then consider what it is like. Is it urban? Rural? Temperate? Tropical? Write a brief (1-2 paragraph) description of the local climate and population (if applicable).\n",
    "\n",
    "I want to look at Gulu, Uganda. This place is a town in rural northern uganda that is mad eup of a larger city and surrounding parishes that have smaller villages in them. I am interested in this location as it is where my parents work to imporve the lives of the villagers who were affected by teh civil war or the current conflucit happening in South Sudan. There is a dry season and a rainy season, the dry season can be very challanging for people to grow food and then there can be flash floods during the rainy season, it is usually warm and humid during this time. Throughout teh year the temperature can very from 60F to 100F but rarely goes outside that range. I am super interested to see if there are any larger stroms I could look at over the past few years. \n",
    "The population of Gulu town was estimated to be around 200,000 people in 2020 and more people can be found in the surrounding villages. "
   ]
  },
  {
   "cell_type": "markdown",
   "id": "6d56ffa4-7f12-4aa4-8019-a2d35a356935",
   "metadata": {},
   "source": [
    "\n"
   ]
  },
  {
   "cell_type": "markdown",
   "id": "d113e815-f785-493a-8144-1ed78b0c8383",
   "metadata": {},
   "source": [
    "### 2. Locate A Precipitation Dataset\n",
    "\n",
    "Look through the Google Earth Engine data catalog:\n",
    "    https://developers.google.com/earth-engine/datasets\n",
    "    \n",
    "To keep things simple (ish), we'll stick with precipitation as our major climate variable. Precip is nice because there are lots of interesting spatial patterns that are easy to see without doing too much data processing! \n",
    "\n",
    "a. Choose one of the precipitation datasets available in GEE, any one you like. Explain briefly (1-2 paragraphs) why you chose it, and what you think its major advantages/properties might be and how they compare with other available data products.\n",
    "You can also explore the metadata associated with your dataset using the `print()` and `getInfo()` methods, or viewing on the description page for your dataset. See the example ERA5 analysis code provided in this repo for more details!"
   ]
  },
  {
   "cell_type": "markdown",
   "id": "5446468a",
   "metadata": {},
   "source": [
    "I chose this data set (GPM: Global Precipitation Measurement (GPM) v6) becasue I was interested in getting rainfall data that is updated often (this is every three hours) and uses other products to make the predictions better. From the website \"This algorithm is intended to intercalibrate, merge, and interpolate all satellite microwave precipitation estimates, together with microwave-calibrated infrared (IR) satellite estimates, precipitation gauge analyses, and potentially other precipitation estimators at fine time and space scales for the TRMM and GPM eras over the entire globe.\" I feel like this will give a very good estimate of what is actually going on, espically in areas where an average might not show the nuances of rainfall patterns in places where it will only rain for a short time, but might get a large amount of preciptiation in that short time. "
   ]
  },
  {
   "cell_type": "markdown",
   "id": "0c9952f2-da88-47aa-9192-8acf3a5236ca",
   "metadata": {},
   "source": []
  },
  {
   "cell_type": "code",
   "execution_count": 5,
   "id": "31067487",
   "metadata": {},
   "outputs": [
    {
     "data": {
      "text/html": [
       "<p>To authorize access needed by Earth Engine, open the following\n",
       "        URL in a web browser and follow the instructions:</p>\n",
       "        <p><a href=https://accounts.google.com/o/oauth2/auth?client_id=517222506229-vsmmajv00ul0bs7p89v5m89qs8eb9359.apps.googleusercontent.com&scope=https%3A%2F%2Fwww.googleapis.com%2Fauth%2Fearthengine+https%3A%2F%2Fwww.googleapis.com%2Fauth%2Fdevstorage.full_control&redirect_uri=urn%3Aietf%3Awg%3Aoauth%3A2.0%3Aoob&response_type=code&code_challenge=F8s8fomZhFcVaKkWRExw24yeRb-zXT2r26IpsZqFlp4&code_challenge_method=S256>https://accounts.google.com/o/oauth2/auth?client_id=517222506229-vsmmajv00ul0bs7p89v5m89qs8eb9359.apps.googleusercontent.com&scope=https%3A%2F%2Fwww.googleapis.com%2Fauth%2Fearthengine+https%3A%2F%2Fwww.googleapis.com%2Fauth%2Fdevstorage.full_control&redirect_uri=urn%3Aietf%3Awg%3Aoauth%3A2.0%3Aoob&response_type=code&code_challenge=F8s8fomZhFcVaKkWRExw24yeRb-zXT2r26IpsZqFlp4&code_challenge_method=S256</a></p>\n",
       "        <p>The authorization workflow will generate a code, which you\n",
       "        should paste in the box below</p>\n",
       "        "
      ],
      "text/plain": [
       "<IPython.core.display.HTML object>"
      ]
     },
     "metadata": {},
     "output_type": "display_data"
    },
    {
     "name": "stdin",
     "output_type": "stream",
     "text": [
      "Enter verification code:  4/1AX4XfWjHdqGHIVhLTxfQx75lOS3_CqLWvLNHuaDc237KTlcom47m6slDI6Q\n"
     ]
    },
    {
     "name": "stdout",
     "output_type": "stream",
     "text": [
      "\n",
      "Successfully saved authorization token.\n"
     ]
    }
   ],
   "source": [
    "ee.Authenticate()\n",
    "ee.Initialize()"
   ]
  },
  {
   "cell_type": "code",
   "execution_count": 6,
   "id": "fa0b5537",
   "metadata": {},
   "outputs": [
    {
     "data": {
      "text/plain": [
       "\"['HQobservationTime', 'HQprecipSource', 'HQprecipitation', 'IRkalmanFilterWeight', 'IRprecipitation', 'precipitationCal', 'precipitationUncal', 'probabilityLiquidPrecipitation', 'randomError']\""
      ]
     },
     "execution_count": 6,
     "metadata": {},
     "output_type": "execute_result"
    }
   ],
   "source": [
    "gdat = ee.ImageCollection(\"NASA/GPM_L3/IMERG_V06\").filter(ee.Filter.date('2020-07-01', '2021-09-01'));\n",
    "\n",
    "testimg=gdat.first()\n",
    "bands=testimg.bandNames()\n",
    "str(bands.getInfo())"
   ]
  },
  {
   "cell_type": "markdown",
   "id": "439f3299-07c9-43b3-9878-58124ed54112",
   "metadata": {},
   "source": [
    "### 3. Plot a Time Series of Precipitation\n",
    "\n",
    "Let's do a new type of analysis on the data: the creation of a time series. The \"ExampleCommands_HW1\" notebook should give you a starting point for how to do this - pull out data for your region of interest, and plot a time series.\n",
    "\n"
   ]
  },
  {
   "cell_type": "code",
   "execution_count": 81,
   "id": "6d121664-daa7-4ea0-82a7-a5cf53edb640",
   "metadata": {},
   "outputs": [],
   "source": [
    "gulu_lon = 32.29899\n",
    "gulu_lat = 2.77457\n",
    "gulu_poi = ee.Geometry.Point(gulu_lon, gulu_lat)\n",
    "scale = 100"
   ]
  },
  {
   "cell_type": "code",
   "execution_count": 82,
   "id": "9c48517a",
   "metadata": {},
   "outputs": [],
   "source": [
    "pr=gdat.select('IRprecipitation')\n",
    "gulu_pr_ts = pr.getRegion(gulu_poi, scale).getInfo()"
   ]
  },
  {
   "cell_type": "code",
   "execution_count": 83,
   "id": "2a27bb39",
   "metadata": {},
   "outputs": [
    {
     "name": "stdout",
     "output_type": "stream",
     "text": [
      "                    0          1         2              3                4\n",
      "0                  id  longitude  latitude           time  IRprecipitation\n",
      "1      20200701000000  32.299375  2.774447  1593561600000           0.4676\n",
      "2      20200701003000  32.299375  2.774447  1593563400000           1.5552\n",
      "3      20200701010000  32.299375  2.774447  1593565200000            0.942\n",
      "4      20200701013000  32.299375  2.774447  1593567000000            0.098\n",
      "...               ...        ...       ...            ...              ...\n",
      "20490  20210831213000  32.299375  2.774447  1630445400000           2.8452\n",
      "20491  20210831220000  32.299375  2.774447  1630447200000           3.7728\n",
      "20492  20210831223000  32.299375  2.774447  1630449000000           3.5332\n",
      "20493  20210831230000  32.299375  2.774447  1630450800000           4.1268\n",
      "20494  20210831233000  32.299375  2.774447  1630452600000           2.8776\n",
      "\n",
      "[20495 rows x 5 columns]\n"
     ]
    }
   ],
   "source": [
    "df = pd.DataFrame(gulu_pr_ts)\n",
    "\n",
    "print(df)"
   ]
  },
  {
   "cell_type": "code",
   "execution_count": 84,
   "id": "15cd1cd1",
   "metadata": {
    "scrolled": true
   },
   "outputs": [
    {
     "name": "stdout",
     "output_type": "stream",
     "text": [
      "0                 id\n",
      "1          longitude\n",
      "2           latitude\n",
      "3               time\n",
      "4    IRprecipitation\n",
      "Name: 0, dtype: object\n",
      "0                  id  longitude  latitude           time IRprecipitation\n",
      "0      20200701000000  32.299375  2.774447  1593561600000          0.4676\n",
      "1      20200701003000  32.299375  2.774447  1593563400000          1.5552\n",
      "2      20200701010000  32.299375  2.774447  1593565200000           0.942\n",
      "3      20200701013000  32.299375  2.774447  1593567000000           0.098\n",
      "4      20200701020000  32.299375  2.774447  1593568800000               0\n",
      "...               ...        ...       ...            ...             ...\n",
      "20489  20210831213000  32.299375  2.774447  1630445400000          2.8452\n",
      "20490  20210831220000  32.299375  2.774447  1630447200000          3.7728\n",
      "20491  20210831223000  32.299375  2.774447  1630449000000          3.5332\n",
      "20492  20210831230000  32.299375  2.774447  1630450800000          4.1268\n",
      "20493  20210831233000  32.299375  2.774447  1630452600000          2.8776\n",
      "\n",
      "[20494 rows x 5 columns]\n"
     ]
    }
   ],
   "source": [
    "headers=df.loc[0]     \n",
    "print(headers)\n",
    "\n",
    "df2 = pd.DataFrame(df.values[1:], columns=headers)     \n",
    "print(df2)"
   ]
  },
  {
   "cell_type": "code",
   "execution_count": 85,
   "id": "337f8d2e",
   "metadata": {},
   "outputs": [
    {
     "data": {
      "text/html": [
       "<div>\n",
       "<style scoped>\n",
       "    .dataframe tbody tr th:only-of-type {\n",
       "        vertical-align: middle;\n",
       "    }\n",
       "\n",
       "    .dataframe tbody tr th {\n",
       "        vertical-align: top;\n",
       "    }\n",
       "\n",
       "    .dataframe thead th {\n",
       "        text-align: right;\n",
       "    }\n",
       "</style>\n",
       "<table border=\"1\" class=\"dataframe\">\n",
       "  <thead>\n",
       "    <tr style=\"text-align: right;\">\n",
       "      <th></th>\n",
       "      <th>id</th>\n",
       "      <th>longitude</th>\n",
       "      <th>latitude</th>\n",
       "      <th>time</th>\n",
       "      <th>IRprecipitation</th>\n",
       "      <th>datetime</th>\n",
       "    </tr>\n",
       "  </thead>\n",
       "  <tbody>\n",
       "    <tr>\n",
       "      <th>0</th>\n",
       "      <td>20200701000000</td>\n",
       "      <td>32.299375</td>\n",
       "      <td>2.774447</td>\n",
       "      <td>1593561600000</td>\n",
       "      <td>0.4676</td>\n",
       "      <td>2020-07-01 00:00:00</td>\n",
       "    </tr>\n",
       "    <tr>\n",
       "      <th>1</th>\n",
       "      <td>20200701003000</td>\n",
       "      <td>32.299375</td>\n",
       "      <td>2.774447</td>\n",
       "      <td>1593563400000</td>\n",
       "      <td>1.5552</td>\n",
       "      <td>2020-07-01 00:30:00</td>\n",
       "    </tr>\n",
       "    <tr>\n",
       "      <th>2</th>\n",
       "      <td>20200701010000</td>\n",
       "      <td>32.299375</td>\n",
       "      <td>2.774447</td>\n",
       "      <td>1593565200000</td>\n",
       "      <td>0.942</td>\n",
       "      <td>2020-07-01 01:00:00</td>\n",
       "    </tr>\n",
       "    <tr>\n",
       "      <th>3</th>\n",
       "      <td>20200701013000</td>\n",
       "      <td>32.299375</td>\n",
       "      <td>2.774447</td>\n",
       "      <td>1593567000000</td>\n",
       "      <td>0.098</td>\n",
       "      <td>2020-07-01 01:30:00</td>\n",
       "    </tr>\n",
       "    <tr>\n",
       "      <th>4</th>\n",
       "      <td>20200701020000</td>\n",
       "      <td>32.299375</td>\n",
       "      <td>2.774447</td>\n",
       "      <td>1593568800000</td>\n",
       "      <td>0</td>\n",
       "      <td>2020-07-01 02:00:00</td>\n",
       "    </tr>\n",
       "    <tr>\n",
       "      <th>...</th>\n",
       "      <td>...</td>\n",
       "      <td>...</td>\n",
       "      <td>...</td>\n",
       "      <td>...</td>\n",
       "      <td>...</td>\n",
       "      <td>...</td>\n",
       "    </tr>\n",
       "    <tr>\n",
       "      <th>20489</th>\n",
       "      <td>20210831213000</td>\n",
       "      <td>32.299375</td>\n",
       "      <td>2.774447</td>\n",
       "      <td>1630445400000</td>\n",
       "      <td>2.8452</td>\n",
       "      <td>2021-08-31 21:30:00</td>\n",
       "    </tr>\n",
       "    <tr>\n",
       "      <th>20490</th>\n",
       "      <td>20210831220000</td>\n",
       "      <td>32.299375</td>\n",
       "      <td>2.774447</td>\n",
       "      <td>1630447200000</td>\n",
       "      <td>3.7728</td>\n",
       "      <td>2021-08-31 22:00:00</td>\n",
       "    </tr>\n",
       "    <tr>\n",
       "      <th>20491</th>\n",
       "      <td>20210831223000</td>\n",
       "      <td>32.299375</td>\n",
       "      <td>2.774447</td>\n",
       "      <td>1630449000000</td>\n",
       "      <td>3.5332</td>\n",
       "      <td>2021-08-31 22:30:00</td>\n",
       "    </tr>\n",
       "    <tr>\n",
       "      <th>20492</th>\n",
       "      <td>20210831230000</td>\n",
       "      <td>32.299375</td>\n",
       "      <td>2.774447</td>\n",
       "      <td>1630450800000</td>\n",
       "      <td>4.1268</td>\n",
       "      <td>2021-08-31 23:00:00</td>\n",
       "    </tr>\n",
       "    <tr>\n",
       "      <th>20493</th>\n",
       "      <td>20210831233000</td>\n",
       "      <td>32.299375</td>\n",
       "      <td>2.774447</td>\n",
       "      <td>1630452600000</td>\n",
       "      <td>2.8776</td>\n",
       "      <td>2021-08-31 23:30:00</td>\n",
       "    </tr>\n",
       "  </tbody>\n",
       "</table>\n",
       "<p>20494 rows × 6 columns</p>\n",
       "</div>"
      ],
      "text/plain": [
       "0                  id  longitude  latitude           time IRprecipitation  \\\n",
       "0      20200701000000  32.299375  2.774447  1593561600000          0.4676   \n",
       "1      20200701003000  32.299375  2.774447  1593563400000          1.5552   \n",
       "2      20200701010000  32.299375  2.774447  1593565200000           0.942   \n",
       "3      20200701013000  32.299375  2.774447  1593567000000           0.098   \n",
       "4      20200701020000  32.299375  2.774447  1593568800000               0   \n",
       "...               ...        ...       ...            ...             ...   \n",
       "20489  20210831213000  32.299375  2.774447  1630445400000          2.8452   \n",
       "20490  20210831220000  32.299375  2.774447  1630447200000          3.7728   \n",
       "20491  20210831223000  32.299375  2.774447  1630449000000          3.5332   \n",
       "20492  20210831230000  32.299375  2.774447  1630450800000          4.1268   \n",
       "20493  20210831233000  32.299375  2.774447  1630452600000          2.8776   \n",
       "\n",
       "0                datetime  \n",
       "0     2020-07-01 00:00:00  \n",
       "1     2020-07-01 00:30:00  \n",
       "2     2020-07-01 01:00:00  \n",
       "3     2020-07-01 01:30:00  \n",
       "4     2020-07-01 02:00:00  \n",
       "...                   ...  \n",
       "20489 2021-08-31 21:30:00  \n",
       "20490 2021-08-31 22:00:00  \n",
       "20491 2021-08-31 22:30:00  \n",
       "20492 2021-08-31 23:00:00  \n",
       "20493 2021-08-31 23:30:00  \n",
       "\n",
       "[20494 rows x 6 columns]"
      ]
     },
     "execution_count": 85,
     "metadata": {},
     "output_type": "execute_result"
    }
   ],
   "source": [
    "df2['datetime'] = pd.to_datetime(df2['time'], unit='ms')\n",
    "df2 #sanity check"
   ]
  },
  {
   "cell_type": "code",
   "execution_count": 86,
   "id": "4246fdb9",
   "metadata": {},
   "outputs": [
    {
     "data": {
      "text/plain": [
       "(0.0, 37.0)"
      ]
     },
     "execution_count": 86,
     "metadata": {},
     "output_type": "execute_result"
    },
    {
     "data": {
      "image/png": "[encoded data removed]",
      "text/plain": [
       "<Figure size 3000x1800 with 1 Axes>"
      ]
     },
     "metadata": {
      "needs_background": "light"
     },
     "output_type": "display_data"
    }
   ],
   "source": [
    "plt.figure(figsize=(10, 6), dpi=300)    # create a new figure, set size and resolution (dpi)\n",
    "plt.plot(df2['datetime'],df2['IRprecipitation'])   # add data to the plot\n",
    "plt.title('Gulu Rainfall', fontsize=16)\n",
    "plt.xlabel('Date', fontsize=14)\n",
    "plt.ylabel('Precip (m)', fontsize=14)\n",
    "plt.ylim(0, 37)"
   ]
  },
  {
   "cell_type": "markdown",
   "id": "01e0753a-3250-46ee-95d3-d692912e708c",
   "metadata": {},
   "source": [
    "### 4. Make Some Maps of Interesting Times\n",
    "\n",
    "Based on the time series of precipitation you just created, look for a few interesting time periods. This could be days when extreme storms happened, or seasons (or years) that were above or below average precipitation.\n",
    "\n",
    "a. Explain briefly why you chose these particular time periods.\n",
    "\n",
    "b. Using the GEE Map method that we worked on in class, plot maps of those time periods. Things to think about:\n",
    "- choosing an appropriate zoom level to highlight the precipitation features you're interested in\n",
    "- setting appropriate min/max ranges for your plot, to allow the major features of regional precipitation to be easily visualized\n",
    "\n",
    "c. Describe briefly what is interesting about your maps! "
   ]
  },
  {
   "cell_type": "markdown",
   "id": "5c2714e1",
   "metadata": {},
   "source": [
    "A. I chose to do the day before, during, and after the largest recorded rainfall for the time period. I wanted to see what the difference would look like in the satilite imagery as the storm passes.  I am assuming that there will be a difference, as the rainfall for the day was such a large spike. "
   ]
  },
  {
   "cell_type": "code",
   "execution_count": 25,
   "id": "5c0ca9a5",
   "metadata": {},
   "outputs": [],
   "source": [
    "ptGulu = ee.Geometry.Point([2.7, 32], zoom = 7)\n",
    "gdat_filt = gdat.filterBounds(ptGulu)\n",
    "\n",
    "pr = gdat_filt.select('IRprecipitation')\n",
    "prdfltB = pr.filter(ee.Filter.date('2020-08-10', '2020-08-11')).mean();\n",
    "prdfltD = pr.filter(ee.Filter.date('2020-08-16', '2020-08-18')).mean();\n",
    "prdfltA = pr.filter(ee.Filter.date('2020-08-23', '2020-08-27')).mean();\n"
   ]
  },
  {
   "cell_type": "code",
   "execution_count": 26,
   "id": "7e166c1a",
   "metadata": {},
   "outputs": [],
   "source": [
    "VIS_PREC = {\n",
    "    'min':1,\n",
    "    'max':37,\n",
    "    'palette': ['000096','0064ff', '00b4ff', '33db80', '9beb4a',\n",
    "  'ffeb00', 'ffb300', 'ff6400', 'eb1e00', 'af0000']\n",
    "}"
   ]
  },
  {
   "cell_type": "code",
   "execution_count": 27,
   "id": "6ae4ee5e",
   "metadata": {},
   "outputs": [
    {
     "data": {
      "application/vnd.jupyter.widget-view+json": {
       "model_id": "385fc9e2987747ddbd001abe20af749f",
       "version_major": 2,
       "version_minor": 0
      },
      "text/plain": [
       "Map(center=[2.7, 32], controls=(WidgetControl(options=['position', 'transparent_bg'], widget=HBox(children=(To…"
      ]
     },
     "metadata": {},
     "output_type": "display_data"
    }
   ],
   "source": [
    "MapGuluB = geemap.Map(center=[2.7,32], zoom=9)\n",
    "MapGuluB.addLayer(prdfltB, VIS_PREC,'IRprecipitation',opacity = .7)\n",
    "MapGuluB"
   ]
  },
  {
   "cell_type": "code",
   "execution_count": 28,
   "id": "302fb048",
   "metadata": {},
   "outputs": [
    {
     "data": {
      "application/vnd.jupyter.widget-view+json": {
       "model_id": "804bbbad0d2d42fa85c5731681b04b80",
       "version_major": 2,
       "version_minor": 0
      },
      "text/plain": [
       "Map(center=[2.7, 32], controls=(WidgetControl(options=['position', 'transparent_bg'], widget=HBox(children=(To…"
      ]
     },
     "metadata": {},
     "output_type": "display_data"
    }
   ],
   "source": [
    "MapGuluD = geemap.Map(center=[2.7,32], zoom=9)\n",
    "MapGuluD.addLayer(prdfltD, VIS_PREC,'IRprecipitation',opacity = .7)\n",
    "MapGuluD"
   ]
  },
  {
   "cell_type": "code",
   "execution_count": 29,
   "id": "69c82407",
   "metadata": {},
   "outputs": [
    {
     "data": {
      "application/vnd.jupyter.widget-view+json": {
       "model_id": "2b9346e8bc0543f692f217ce58eb0873",
       "version_major": 2,
       "version_minor": 0
      },
      "text/plain": [
       "Map(center=[2.7, 32], controls=(WidgetControl(options=['position', 'transparent_bg'], widget=HBox(children=(To…"
      ]
     },
     "metadata": {},
     "output_type": "display_data"
    }
   ],
   "source": [
    "MapGuluA = geemap.Map(center=[2.7,32], zoom=9)\n",
    "MapGuluA.addLayer(prdfltA, VIS_PREC,'IRprecipitation',opacity = .7)\n",
    "MapGuluA"
   ]
  },
  {
   "cell_type": "markdown",
   "id": "a83daea9-9ba6-40ae-9443-34b60b885bef",
   "metadata": {},
   "source": [
    "C. I think the fact that the maps dont look that different is quite interesting. There are some smaller spikes around the day of the largest rainfall that could be accounting for this. However what I really think is going on is that becasue this is an average of the entire day, every three hours, I think that it might be giving us a value that is more subdued. Usually what will happen in this region is there will be a large storm that only lasts for a few short hours, and the way this is set up wont take that into account, as it takes the average over the entire day. I would be interested to work on this more and see how I could change my code to factor that in. "
   ]
  },
  {
   "cell_type": "markdown",
   "id": "e74c19b6-888d-4ea9-ac71-cd2aa2c25d18",
   "metadata": {},
   "source": [
    "### 5. Plot Landsat NDVI for the Region"
   ]
  },
  {
   "cell_type": "markdown",
   "id": "492c8b38-9e92-41ba-9252-47bef3634265",
   "metadata": {},
   "source": [
    "The precipitation analysis discussed above provides useful context for identifying interesting weather events for a particular region. Now let's see what (if any!) effect changes in weather patterns have had on the landscape, using Landsat imagery. \n",
    "\n",
    "a. Make a long-term average NDVI map for your region: say, a 10- or 20-year mean. This will give you a baseline to compare against.\n",
    "\n",
    "b. Make an NDVI map centered on one of your 'interesting' time periods from the precipitation time series. How are the patterns different from the long-term average? And how do you think this relates to precipitation during this time period?\n"
   ]
  },
  {
   "cell_type": "markdown",
   "id": "4fe4cea7-e923-44d8-b034-060a9f2466ea",
   "metadata": {},
   "source": [
    "A. Making our base line map"
   ]
  },
  {
   "cell_type": "code",
   "execution_count": 30,
   "id": "5556ba67",
   "metadata": {},
   "outputs": [],
   "source": [
    "lsat = ee.ImageCollection('LANDSAT/LC08/C01/T1_TOA').filterDate('2014-08-01', '2021-09-01');"
   ]
  },
  {
   "cell_type": "code",
   "execution_count": 31,
   "id": "17f4aa95",
   "metadata": {},
   "outputs": [],
   "source": [
    "place = ee.Geometry.Point([32.5825, 2.77]) #setting the place we want"
   ]
  },
  {
   "cell_type": "code",
   "execution_count": 32,
   "id": "f597a39d",
   "metadata": {},
   "outputs": [],
   "source": [
    "lsat_filt = lsat.filterBounds(place) #filtering for that place"
   ]
  },
  {
   "cell_type": "code",
   "execution_count": 33,
   "id": "ca9cd0c7",
   "metadata": {},
   "outputs": [],
   "source": [
    "visParams = {'bands': ['B4', 'B3', 'B2'],\n",
    "             'min': 0,\n",
    "             'max': 0.3\n",
    "            } #getting the visable bands"
   ]
  },
  {
   "cell_type": "code",
   "execution_count": 34,
   "id": "a9920ce1",
   "metadata": {},
   "outputs": [],
   "source": [
    "MapGuluCover = geemap.Map(center=[2.77, 32.5825], zoom=8)\n",
    "MapGuluCover.addLayer(lsat_filt, visParams)"
   ]
  },
  {
   "cell_type": "code",
   "execution_count": 35,
   "id": "f9fd7af3",
   "metadata": {},
   "outputs": [],
   "source": [
    "lsat_leastcloudy = lsat_filt.sort('CLOUD_COVER').first()\n",
    "\n",
    "MapGuluCover.addLayer(lsat_leastcloudy, visParams)"
   ]
  },
  {
   "cell_type": "code",
   "execution_count": 36,
   "id": "7637bab1",
   "metadata": {},
   "outputs": [],
   "source": [
    "red = lsat_leastcloudy.select('B4')\n",
    "nir = lsat_leastcloudy.select('B5')\n",
    "\n",
    "ndvi=(nir.subtract(red)).divide((nir.add(red))).rename('NDVI')"
   ]
  },
  {
   "cell_type": "code",
   "execution_count": 37,
   "id": "9d0465b5",
   "metadata": {
    "tags": []
   },
   "outputs": [
    {
     "data": {
      "application/vnd.jupyter.widget-view+json": {
       "model_id": "067a2094b22e4f35b0998d2340731acd",
       "version_major": 2,
       "version_minor": 0
      },
      "text/plain": [
       "Map(center=[2.77, 32.5825], controls=(WidgetControl(options=['position', 'transparent_bg'], widget=HBox(childr…"
      ]
     },
     "metadata": {},
     "output_type": "display_data"
    }
   ],
   "source": [
    "ndviParams = {'min': -1, \n",
    "              'max': 1, \n",
    "              'palette': ['blue', 'white', 'green']\n",
    "             }\n",
    "\n",
    "MapGuluCover.addLayer(ndvi, ndviParams,'NDVI')\n",
    "MapGuluCover"
   ]
  },
  {
   "cell_type": "code",
   "execution_count": 273,
   "id": "18d39e33",
   "metadata": {},
   "outputs": [],
   "source": [
    "def addNDVI(image):\n",
    "    red = image.select('B4')\n",
    "    nir = image.select('B5')\n",
    "    \n",
    "    ndvi = (nir.subtract(red)).divide((nir.add(red))).rename('NDVI')\n",
    "    \n",
    "    return image.addBands(ndvi)"
   ]
  },
  {
   "cell_type": "code",
   "execution_count": 276,
   "id": "ab9a3744",
   "metadata": {},
   "outputs": [],
   "source": [
    "lsat_withndvi = lsat_filt.map(addNDVI)"
   ]
  },
  {
   "cell_type": "code",
   "execution_count": 278,
   "id": "7593d07b",
   "metadata": {},
   "outputs": [],
   "source": [
    "dat_drght = lsat_withndvi.filter(ee.Filter.date('2014-08-01', '2021-09-01')).mean();\n"
   ]
  },
  {
   "cell_type": "code",
   "execution_count": 279,
   "id": "44e94a14",
   "metadata": {},
   "outputs": [],
   "source": [
    "ndviParams = {'bands': 'NDVI',\n",
    "              'min': -1, \n",
    "              'max': 1, \n",
    "              'palette': ['blue', 'white', 'green']\n",
    "             }"
   ]
  },
  {
   "cell_type": "code",
   "execution_count": 280,
   "id": "34c6a45f",
   "metadata": {},
   "outputs": [
    {
     "data": {
      "application/vnd.jupyter.widget-view+json": {
       "model_id": "9198c375654d4999852531e8df5bf34b",
       "version_major": 2,
       "version_minor": 0
      },
      "text/plain": [
       "Map(center=[2.77, 32.5825], controls=(WidgetControl(options=['position', 'transparent_bg'], widget=HBox(childr…"
      ]
     },
     "metadata": {},
     "output_type": "display_data"
    }
   ],
   "source": [
    "MapMean = geemap.Map(center=[2.77, 32.5825], zoom=8)\n",
    "\n",
    "MapMean"
   ]
  },
  {
   "cell_type": "code",
   "execution_count": 281,
   "id": "e2788a0e",
   "metadata": {},
   "outputs": [],
   "source": [
    "MapMean.addLayer(dat_drght,ndviParams)"
   ]
  },
  {
   "cell_type": "markdown",
   "id": "388581ad-2293-4e04-827b-2a3a7cffc3dc",
   "metadata": {},
   "source": [
    "B. Map of intersting rainfall pattern "
   ]
  },
  {
   "cell_type": "code",
   "execution_count": 38,
   "id": "e63b1c93-8eb4-4867-b9d7-46056566b44e",
   "metadata": {},
   "outputs": [],
   "source": [
    "lsat2 = ee.ImageCollection('LANDSAT/LC08/C01/T1_TOA').filterDate('2014-08-01', '2021-09-01');"
   ]
  },
  {
   "cell_type": "code",
   "execution_count": 39,
   "id": "7852f96a-3bf4-4e81-adb3-f283d519a674",
   "metadata": {},
   "outputs": [],
   "source": [
    "place = ee.Geometry.Point([32.5825, 2.77])"
   ]
  },
  {
   "cell_type": "code",
   "execution_count": 40,
   "id": "b9da1ab4-8733-420d-b6ab-d08a518da012",
   "metadata": {},
   "outputs": [],
   "source": [
    "lsat2_filt = lsat2.filterBounds(place) #filtering for that place"
   ]
  },
  {
   "cell_type": "code",
   "execution_count": 41,
   "id": "f306fb12-446e-45f7-80cb-64f125dabde5",
   "metadata": {},
   "outputs": [],
   "source": [
    "MapGuluRain = geemap.Map(center=[2.77, 32.5825], zoom=8)\n",
    "MapGuluRain.addLayer(lsat2_filt, visParams)"
   ]
  },
  {
   "cell_type": "code",
   "execution_count": 42,
   "id": "5802dc37-dd5f-4727-9e7d-99acb985d6ca",
   "metadata": {},
   "outputs": [],
   "source": [
    "lsat2_leastcloudy = lsat2_filt.sort('CLOUD_COVER').first()\n",
    "\n",
    "MapGuluRain.addLayer(lsat2_leastcloudy, visParams)"
   ]
  },
  {
   "cell_type": "code",
   "execution_count": 43,
   "id": "36ee8904-08fc-4b12-9f7b-70f67733c7bb",
   "metadata": {},
   "outputs": [],
   "source": [
    "red = lsat2_leastcloudy.select('B4')\n",
    "nir = lsat2_leastcloudy.select('B5')\n",
    "\n",
    "ndvi=(nir.subtract(red)).divide((nir.add(red))).rename('NDVI')"
   ]
  },
  {
   "cell_type": "code",
   "execution_count": 45,
   "id": "1969a135-2d38-490c-981c-e24d670c8141",
   "metadata": {},
   "outputs": [
    {
     "data": {
      "application/vnd.jupyter.widget-view+json": {
       "model_id": "96a0ca4ef8b244a3a53be24e82f3bcd3",
       "version_major": 2,
       "version_minor": 0
      },
      "text/plain": [
       "Map(center=[2.77, 32.5825], controls=(WidgetControl(options=['position', 'transparent_bg'], widget=HBox(childr…"
      ]
     },
     "metadata": {},
     "output_type": "display_data"
    }
   ],
   "source": [
    "ndviParams = {'min': -1, \n",
    "              'max': 1, \n",
    "              'palette': ['blue', 'white', 'green']\n",
    "             }\n",
    "\n",
    "MapGuluRain.addLayer(ndvi, ndviParams,'NDVI')\n",
    "MapGuluRain"
   ]
  },
  {
   "cell_type": "markdown",
   "id": "03090d32-04d5-4174-831e-2086faea5e9d",
   "metadata": {},
   "source": [
    "It seems like there are more clouds on the second map, and that the other layers are more red, and drier on the long term average map. "
   ]
  }
 ],
 "metadata": {
  "kernelspec": {
   "display_name": "Python 3 (ipykernel)",
   "language": "python",
   "name": "python3"
  },
  "language_info": {
   "codemirror_mode": {
    "name": "ipython",
    "version": 3
   },
   "file_extension": ".py",
   "mimetype": "text/x-python",
   "name": "python",
   "nbconvert_exporter": "python",
   "pygments_lexer": "ipython3",
   "version": "3.9.7"
  }
 },
 "nbformat": 4,
 "nbformat_minor": 5
}
